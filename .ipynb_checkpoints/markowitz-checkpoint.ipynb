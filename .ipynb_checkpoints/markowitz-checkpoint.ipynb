{
 "cells": [
  {
   "cell_type": "code",
   "execution_count": 34,
   "id": "a39b0b49",
   "metadata": {},
   "outputs": [],
   "source": [
    "import sympy as sy\n",
    "from sympy.solvers.solveset import linsolve\n",
    "import itertools\n",
    "\n",
    "sy.init_printing()"
   ]
  },
  {
   "cell_type": "markdown",
   "id": "2a9b1fea",
   "metadata": {},
   "source": [
    "# $n = 2$ assets"
   ]
  },
  {
   "cell_type": "code",
   "execution_count": 14,
   "id": "b23df9ed",
   "metadata": {},
   "outputs": [],
   "source": [
    "# weights\n",
    "w_A, w_B = sy.symbols(\"w_A w_B\", real=True)\n",
    "\n",
    "# variance/standard deviatin\n",
    "sd_A, sd_B = sy.symbols(\"sigma_A sigma_B\", real=True)\n",
    "\n",
    "# correlation\n",
    "rho = sy.symbols(\"rho\", real=True)\n",
    "\n",
    "# lagrange\n",
    "l = sy.symbols(\"lambda\", real=True)"
   ]
  },
  {
   "cell_type": "code",
   "execution_count": 15,
   "id": "57005c76",
   "metadata": {},
   "outputs": [],
   "source": [
    "# matrices\n",
    "W = sy.Matrix([w_A, w_B])\n",
    "G = sy.Matrix([[sd_A*sd_A, rho*sd_A*sd_B],\n",
    "              [rho*sd_A*sd_B, sd_B*sd_B]])"
   ]
  },
  {
   "cell_type": "code",
   "execution_count": 16,
   "id": "55065ec3",
   "metadata": {},
   "outputs": [
    {
     "data": {
      "image/png": "[encoded data removed]",
      "text/latex": [
       "$\\displaystyle w_{A} \\left(\\rho \\sigma_{A} \\sigma_{B} w_{B} + \\sigma_{A}^{2} w_{A}\\right) + w_{B} \\left(\\rho \\sigma_{A} \\sigma_{B} w_{A} + \\sigma_{B}^{2} w_{B}\\right)$"
      ],
      "text/plain": [
       "    ⎛                   2    ⎞       ⎛                   2    ⎞\n",
       "w_A⋅⎝ρ⋅σ_A⋅σ_B⋅w_B + σ_A ⋅w_A⎠ + w_B⋅⎝ρ⋅σ_A⋅σ_B⋅w_A + σ_B ⋅w_B⎠"
      ]
     },
     "execution_count": 16,
     "metadata": {},
     "output_type": "execute_result"
    }
   ],
   "source": [
    "# build objective function\n",
    "objective = W.T * G * W\n",
    "obj = objective[0]\n",
    "obj"
   ]
  },
  {
   "cell_type": "code",
   "execution_count": 18,
   "id": "c1dee093",
   "metadata": {},
   "outputs": [
    {
     "data": {
      "image/png": "[encoded data removed]",
      "text/latex": [
       "$\\displaystyle w_{A} + w_{B} - 1$"
      ],
      "text/plain": [
       "w_A + w_B - 1"
      ]
     },
     "execution_count": 18,
     "metadata": {},
     "output_type": "execute_result"
    }
   ],
   "source": [
    "# build constraint \n",
    "constraint = W.T * sy.Matrix([1, 1])\n",
    "c = constraint[0] - 1\n",
    "c"
   ]
  },
  {
   "cell_type": "code",
   "execution_count": 19,
   "id": "cc8a156c",
   "metadata": {},
   "outputs": [
    {
     "data": {
      "image/png": "[encoded data removed]",
      "text/latex": [
       "$\\displaystyle \\lambda \\left(w_{A} + w_{B} - 1\\right) + w_{A} \\left(\\rho \\sigma_{A} \\sigma_{B} w_{B} + \\sigma_{A}^{2} w_{A}\\right) + w_{B} \\left(\\rho \\sigma_{A} \\sigma_{B} w_{A} + \\sigma_{B}^{2} w_{B}\\right)$"
      ],
      "text/plain": [
       "                        ⎛                   2    ⎞       ⎛                   2\n",
       "λ⋅(w_A + w_B - 1) + w_A⋅⎝ρ⋅σ_A⋅σ_B⋅w_B + σ_A ⋅w_A⎠ + w_B⋅⎝ρ⋅σ_A⋅σ_B⋅w_A + σ_B \n",
       "\n",
       "    ⎞\n",
       "⋅w_B⎠"
      ]
     },
     "execution_count": 19,
     "metadata": {},
     "output_type": "execute_result"
    }
   ],
   "source": [
    "# lagrangian\n",
    "lagrangian = obj + l*c\n",
    "lagrangian"
   ]
  },
  {
   "cell_type": "code",
   "execution_count": 20,
   "id": "fca2d2d8",
   "metadata": {},
   "outputs": [],
   "source": [
    "# differentiate with respect to each weight (w_A, w_B, w_C)\n",
    "dLdA = sy.diff(lagrangian, w_A)\n",
    "dLdB = sy.diff(lagrangian, w_B)\n",
    "dLdl = sy.diff(lagrangian, l)"
   ]
  },
  {
   "cell_type": "code",
   "execution_count": 21,
   "id": "dd227e9c",
   "metadata": {},
   "outputs": [],
   "source": [
    "# set derivative to 0\n",
    "A, B, lam = linsolve([dLdA, dLdB, dLdl], (w_A, w_B, l)).args[0]"
   ]
  },
  {
   "cell_type": "code",
   "execution_count": 22,
   "id": "ea087984",
   "metadata": {},
   "outputs": [
    {
     "data": {
      "image/png": "[encoded data removed]",
      "text/latex": [
       "$\\displaystyle \\frac{\\rho \\sigma_{A} \\sigma_{B} - \\sigma_{B}^{2}}{2 \\rho \\sigma_{A} \\sigma_{B} - \\sigma_{A}^{2} - \\sigma_{B}^{2}}$"
      ],
      "text/plain": [
       "                    2    \n",
       "     ρ⋅σ_A⋅σ_B - σ_B     \n",
       "─────────────────────────\n",
       "                 2      2\n",
       "2⋅ρ⋅σ_A⋅σ_B - σ_A  - σ_B "
      ]
     },
     "execution_count": 22,
     "metadata": {},
     "output_type": "execute_result"
    }
   ],
   "source": [
    "A"
   ]
  },
  {
   "cell_type": "code",
   "execution_count": 23,
   "id": "6203ad0e",
   "metadata": {},
   "outputs": [
    {
     "data": {
      "image/png": "[encoded data removed]",
      "text/latex": [
       "$\\displaystyle \\frac{\\rho \\sigma_{A} \\sigma_{B} - \\sigma_{A}^{2}}{2 \\rho \\sigma_{A} \\sigma_{B} - \\sigma_{A}^{2} - \\sigma_{B}^{2}}$"
      ],
      "text/plain": [
       "                    2    \n",
       "     ρ⋅σ_A⋅σ_B - σ_A     \n",
       "─────────────────────────\n",
       "                 2      2\n",
       "2⋅ρ⋅σ_A⋅σ_B - σ_A  - σ_B "
      ]
     },
     "execution_count": 23,
     "metadata": {},
     "output_type": "execute_result"
    }
   ],
   "source": [
    "B"
   ]
  },
  {
   "cell_type": "code",
   "execution_count": 24,
   "id": "869d635d",
   "metadata": {},
   "outputs": [
    {
     "data": {
      "image/png": "[encoded data removed]",
      "text/latex": [
       "$\\displaystyle \\frac{- 2 \\rho^{2} \\sigma_{A}^{2} \\sigma_{B}^{2} + 2 \\sigma_{A}^{2} \\sigma_{B}^{2}}{2 \\rho \\sigma_{A} \\sigma_{B} - \\sigma_{A}^{2} - \\sigma_{B}^{2}}$"
      ],
      "text/plain": [
       "     2    2    2        2    2\n",
       "- 2⋅ρ ⋅σ_A ⋅σ_B  + 2⋅σ_A ⋅σ_B \n",
       "──────────────────────────────\n",
       "                   2      2   \n",
       "  2⋅ρ⋅σ_A⋅σ_B - σ_A  - σ_B    "
      ]
     },
     "execution_count": 24,
     "metadata": {},
     "output_type": "execute_result"
    }
   ],
   "source": [
    "lam"
   ]
  },
  {
   "cell_type": "markdown",
   "id": "3100a922",
   "metadata": {},
   "source": [
    "### 1. $\\rho = 0$ "
   ]
  },
  {
   "cell_type": "code",
   "execution_count": 28,
   "id": "66b70c93",
   "metadata": {},
   "outputs": [
    {
     "data": {
      "image/png": "[encoded data removed]",
      "text/latex": [
       "$\\displaystyle \\frac{\\sigma_{B}^{2}}{\\sigma_{A}^{2} + \\sigma_{B}^{2}}$"
      ],
      "text/plain": [
       "       2   \n",
       "    σ_B    \n",
       "───────────\n",
       "   2      2\n",
       "σ_A  + σ_B "
      ]
     },
     "execution_count": 28,
     "metadata": {},
     "output_type": "execute_result"
    }
   ],
   "source": [
    "A.subs({rho:0}).simplify()"
   ]
  },
  {
   "cell_type": "code",
   "execution_count": 29,
   "id": "55e330e7",
   "metadata": {},
   "outputs": [
    {
     "data": {
      "image/png": "[encoded data removed]",
      "text/latex": [
       "$\\displaystyle \\frac{\\sigma_{A}^{2}}{\\sigma_{A}^{2} + \\sigma_{B}^{2}}$"
      ],
      "text/plain": [
       "       2   \n",
       "    σ_A    \n",
       "───────────\n",
       "   2      2\n",
       "σ_A  + σ_B "
      ]
     },
     "execution_count": 29,
     "metadata": {},
     "output_type": "execute_result"
    }
   ],
   "source": [
    "B.subs({rho:0}).simplify()"
   ]
  },
  {
   "cell_type": "markdown",
   "id": "bdd7eaa4",
   "metadata": {},
   "source": [
    "### 2. $\\rho = 1$ "
   ]
  },
  {
   "cell_type": "code",
   "execution_count": 30,
   "id": "fa2e4e3c",
   "metadata": {},
   "outputs": [
    {
     "data": {
      "image/png": "[encoded data removed]",
      "text/latex": [
       "$\\displaystyle - \\frac{\\sigma_{B}}{\\sigma_{A} - \\sigma_{B}}$"
      ],
      "text/plain": [
       "  -σ_B   \n",
       "─────────\n",
       "σ_A - σ_B"
      ]
     },
     "execution_count": 30,
     "metadata": {},
     "output_type": "execute_result"
    }
   ],
   "source": [
    "A.subs({rho:1}).simplify()"
   ]
  },
  {
   "cell_type": "code",
   "execution_count": 31,
   "id": "7793e6af",
   "metadata": {},
   "outputs": [
    {
     "data": {
      "image/png": "[encoded data removed]",
      "text/latex": [
       "$\\displaystyle \\frac{\\sigma_{A}}{\\sigma_{A} - \\sigma_{B}}$"
      ],
      "text/plain": [
       "   σ_A   \n",
       "─────────\n",
       "σ_A - σ_B"
      ]
     },
     "execution_count": 31,
     "metadata": {},
     "output_type": "execute_result"
    }
   ],
   "source": [
    "B.subs({rho:1}).simplify()"
   ]
  },
  {
   "cell_type": "markdown",
   "id": "8a866f7d",
   "metadata": {},
   "source": [
    "### 3. $\\rho = -1$ "
   ]
  },
  {
   "cell_type": "code",
   "execution_count": 32,
   "id": "18b6ff22",
   "metadata": {},
   "outputs": [
    {
     "data": {
      "image/png": "[encoded data removed]",
      "text/latex": [
       "$\\displaystyle \\frac{\\sigma_{B}}{\\sigma_{A} + \\sigma_{B}}$"
      ],
      "text/plain": [
       "   σ_B   \n",
       "─────────\n",
       "σ_A + σ_B"
      ]
     },
     "execution_count": 32,
     "metadata": {},
     "output_type": "execute_result"
    }
   ],
   "source": [
    "A.subs({rho:-1}).simplify()"
   ]
  },
  {
   "cell_type": "code",
   "execution_count": 33,
   "id": "2c632847",
   "metadata": {},
   "outputs": [
    {
     "data": {
      "image/png": "[encoded data removed]",
      "text/latex": [
       "$\\displaystyle \\frac{\\sigma_{A}}{\\sigma_{A} + \\sigma_{B}}$"
      ],
      "text/plain": [
       "   σ_A   \n",
       "─────────\n",
       "σ_A + σ_B"
      ]
     },
     "execution_count": 33,
     "metadata": {},
     "output_type": "execute_result"
    }
   ],
   "source": [
    "B.subs({rho:-1}).simplify()"
   ]
  },
  {
   "cell_type": "markdown",
   "id": "240d702f",
   "metadata": {},
   "source": [
    " "
   ]
  },
  {
   "cell_type": "markdown",
   "id": "696580d4",
   "metadata": {},
   "source": [
    " \n"
   ]
  },
  {
   "cell_type": "markdown",
   "id": "238ca2ac",
   "metadata": {},
   "source": [
    "# $n = 3$ assets"
   ]
  },
  {
   "cell_type": "markdown",
   "id": "80d77d02",
   "metadata": {},
   "source": [
    "### initialize variables"
   ]
  },
  {
   "cell_type": "code",
   "execution_count": 53,
   "id": "aa299388",
   "metadata": {},
   "outputs": [],
   "source": [
    "# weights\n",
    "w_A, w_B, w_C = sy.symbols(\"w_A w_B w_C\", real=True)\n",
    "\n",
    "# variance/standard deviatin\n",
    "sd_A, sd_B, sd_C = sy.symbols(\"sigma_A sigma_B sigma_C\", real=True)\n",
    "\n",
    "# correlation\n",
    "rho_AB, rho_AC, rho_BC = sy.symbols(\"rho_AB rho_AC rho_BC\", real=True)\n",
    "\n",
    "# lagrange\n",
    "l = sy.symbols(\"lambda\", real=True)"
   ]
  },
  {
   "cell_type": "code",
   "execution_count": 54,
   "id": "781ee5fb",
   "metadata": {},
   "outputs": [],
   "source": [
    "# matrices\n",
    "W = sy.Matrix([w_A, w_B, w_C])\n",
    "G = sy.Matrix([[sd_A*sd_A, rho_AB*sd_A*sd_B, rho_AC*sd_A*sd_B],\n",
    "              [rho_AB*sd_A*sd_B, sd_B*sd_B, rho_BC*sd_B*sd_C],\n",
    "              [rho_AC*sd_A*sd_C, rho_BC*sd_B*sd_C, sd_C*sd_C]])"
   ]
  },
  {
   "cell_type": "code",
   "execution_count": 55,
   "id": "e13198a1",
   "metadata": {},
   "outputs": [
    {
     "data": {
      "text/latex": [
       "$\\displaystyle \\left[\\begin{matrix}w_{A}\\\\w_{B}\\\\w_{C}\\end{matrix}\\right]$"
      ],
      "text/plain": [
       "⎡w_A⎤\n",
       "⎢   ⎥\n",
       "⎢w_B⎥\n",
       "⎢   ⎥\n",
       "⎣w_C⎦"
      ]
     },
     "execution_count": 55,
     "metadata": {},
     "output_type": "execute_result"
    }
   ],
   "source": [
    "W"
   ]
  },
  {
   "cell_type": "code",
   "execution_count": 56,
   "id": "a2d0ec1e",
   "metadata": {},
   "outputs": [
    {
     "data": {
      "text/latex": [
       "$\\displaystyle \\left[\\begin{matrix}\\sigma_{A}^{2} & \\rho_{AB} \\sigma_{A} \\sigma_{B} & \\rho_{AC} \\sigma_{A} \\sigma_{B}\\\\\\rho_{AB} \\sigma_{A} \\sigma_{B} & \\sigma_{B}^{2} & \\rho_{BC} \\sigma_{B} \\sigma_{C}\\\\\\rho_{AC} \\sigma_{A} \\sigma_{C} & \\rho_{BC} \\sigma_{B} \\sigma_{C} & \\sigma_{C}^{2}\\end{matrix}\\right]$"
      ],
      "text/plain": [
       "⎡       2                                ⎤\n",
       "⎢    σ_A       ρ_AB⋅σ_A⋅σ_B  ρ_AC⋅σ_A⋅σ_B⎥\n",
       "⎢                                        ⎥\n",
       "⎢                     2                  ⎥\n",
       "⎢ρ_AB⋅σ_A⋅σ_B      σ_B       ρ_BC⋅σ_B⋅σ_C⎥\n",
       "⎢                                        ⎥\n",
       "⎢                                   2    ⎥\n",
       "⎣ρ_AC⋅σ_A⋅σ_C  ρ_BC⋅σ_B⋅σ_C      σ_C     ⎦"
      ]
     },
     "execution_count": 56,
     "metadata": {},
     "output_type": "execute_result"
    }
   ],
   "source": [
    "G"
   ]
  },
  {
   "cell_type": "code",
   "execution_count": 57,
   "id": "e139596d",
   "metadata": {},
   "outputs": [
    {
     "data": {
      "image/png": "[encoded data removed]",
      "text/latex": [
       "$\\displaystyle w_{A} \\left(\\rho_{AB} \\sigma_{A} \\sigma_{B} w_{B} + \\rho_{AC} \\sigma_{A} \\sigma_{C} w_{C} + \\sigma_{A}^{2} w_{A}\\right) + w_{B} \\left(\\rho_{AB} \\sigma_{A} \\sigma_{B} w_{A} + \\rho_{BC} \\sigma_{B} \\sigma_{C} w_{C} + \\sigma_{B}^{2} w_{B}\\right) + w_{C} \\left(\\rho_{AC} \\sigma_{A} \\sigma_{B} w_{A} + \\rho_{BC} \\sigma_{B} \\sigma_{C} w_{B} + \\sigma_{C}^{2} w_{C}\\right)$"
      ],
      "text/plain": [
       "    ⎛                                         2    ⎞       ⎛                  \n",
       "w_A⋅⎝ρ_AB⋅σ_A⋅σ_B⋅w_B + ρ_AC⋅σ_A⋅σ_C⋅w_C + σ_A ⋅w_A⎠ + w_B⋅⎝ρ_AB⋅σ_A⋅σ_B⋅w_A +\n",
       "\n",
       "                       2    ⎞       ⎛                                         \n",
       " ρ_BC⋅σ_B⋅σ_C⋅w_C + σ_B ⋅w_B⎠ + w_C⋅⎝ρ_AC⋅σ_A⋅σ_B⋅w_A + ρ_BC⋅σ_B⋅σ_C⋅w_B + σ_C\n",
       "\n",
       "2    ⎞\n",
       " ⋅w_C⎠"
      ]
     },
     "execution_count": 57,
     "metadata": {},
     "output_type": "execute_result"
    }
   ],
   "source": [
    "# build objective function\n",
    "objective = W.T * G * W\n",
    "obj = objective[0]\n",
    "obj"
   ]
  },
  {
   "cell_type": "code",
   "execution_count": 58,
   "id": "1e91a8f2",
   "metadata": {},
   "outputs": [
    {
     "data": {
      "image/png": "[encoded data removed]",
      "text/latex": [
       "$\\displaystyle w_{A} + w_{B} + w_{C} - 1$"
      ],
      "text/plain": [
       "w_A + w_B + w_C - 1"
      ]
     },
     "execution_count": 58,
     "metadata": {},
     "output_type": "execute_result"
    }
   ],
   "source": [
    "# build constraint \n",
    "constraint = W.T * sy.Matrix([1, 1, 1])\n",
    "c = constraint[0] - 1\n",
    "c"
   ]
  },
  {
   "cell_type": "code",
   "execution_count": 59,
   "id": "496bacfd",
   "metadata": {},
   "outputs": [
    {
     "data": {
      "image/png": "[encoded data removed]",
      "text/latex": [
       "$\\displaystyle \\lambda \\left(w_{A} + w_{B} + w_{C} - 1\\right) + w_{A} \\left(\\rho_{AB} \\sigma_{A} \\sigma_{B} w_{B} + \\rho_{AC} \\sigma_{A} \\sigma_{C} w_{C} + \\sigma_{A}^{2} w_{A}\\right) + w_{B} \\left(\\rho_{AB} \\sigma_{A} \\sigma_{B} w_{A} + \\rho_{BC} \\sigma_{B} \\sigma_{C} w_{C} + \\sigma_{B}^{2} w_{B}\\right) + w_{C} \\left(\\rho_{AC} \\sigma_{A} \\sigma_{B} w_{A} + \\rho_{BC} \\sigma_{B} \\sigma_{C} w_{B} + \\sigma_{C}^{2} w_{C}\\right)$"
      ],
      "text/plain": [
       "                              ⎛                                         2    ⎞\n",
       "λ⋅(w_A + w_B + w_C - 1) + w_A⋅⎝ρ_AB⋅σ_A⋅σ_B⋅w_B + ρ_AC⋅σ_A⋅σ_C⋅w_C + σ_A ⋅w_A⎠\n",
       "\n",
       "       ⎛                                         2    ⎞       ⎛               \n",
       " + w_B⋅⎝ρ_AB⋅σ_A⋅σ_B⋅w_A + ρ_BC⋅σ_B⋅σ_C⋅w_C + σ_B ⋅w_B⎠ + w_C⋅⎝ρ_AC⋅σ_A⋅σ_B⋅w_\n",
       "\n",
       "                          2    ⎞\n",
       "A + ρ_BC⋅σ_B⋅σ_C⋅w_B + σ_C ⋅w_C⎠"
      ]
     },
     "execution_count": 59,
     "metadata": {},
     "output_type": "execute_result"
    }
   ],
   "source": [
    "# lagrangian\n",
    "lagrangian = obj + l*c\n",
    "lagrangian"
   ]
  },
  {
   "cell_type": "code",
   "execution_count": 60,
   "id": "7b3c5dfe",
   "metadata": {},
   "outputs": [],
   "source": [
    "# differentiate with respect to each weight (w_A, w_B, w_C)\n",
    "dLdA = sy.diff(lagrangian, w_A)\n",
    "dLdB = sy.diff(lagrangian, w_B)\n",
    "dLdC = sy.diff(lagrangian, w_C)\n",
    "dLdl = sy.diff(lagrangian, l)"
   ]
  },
  {
   "cell_type": "code",
   "execution_count": 61,
   "id": "ece62a8a",
   "metadata": {},
   "outputs": [],
   "source": [
    "# set derivative to 0\n",
    "A, B, C, lam = linsolve([dLdA, dLdB, dLdC, dLdl], (w_A, w_B, w_C, l)).args[0]"
   ]
  },
  {
   "cell_type": "code",
   "execution_count": 62,
   "id": "14695650",
   "metadata": {},
   "outputs": [],
   "source": [
    "# make list of permutations\n",
    "p = list(itertools.product([0,1,-1], repeat=3))\n",
    "perms = [{rho_AB: rho[0], rho_AC: rho[1], rho_BC: rho[2]} for rho in p]"
   ]
  },
  {
   "cell_type": "code",
   "execution_count": 65,
   "id": "25864c6c",
   "metadata": {},
   "outputs": [
    {
     "data": {
      "image/png": "[encoded data removed]",
      "text/latex": [
       "$\\displaystyle - \\frac{4 \\sigma_{A}^{2} \\sigma_{B}^{2}}{- 4 \\sigma_{A}^{2} \\sigma_{B}^{2} - 4 \\sigma_{A}^{2} \\sigma_{C}^{2} - 4 \\sigma_{B}^{2} \\sigma_{C}^{2}}$"
      ],
      "text/plain": [
       "                    2    2               \n",
       "              -4⋅σ_A ⋅σ_B                \n",
       "─────────────────────────────────────────\n",
       "       2    2        2    2        2    2\n",
       "- 4⋅σ_A ⋅σ_B  - 4⋅σ_A ⋅σ_C  - 4⋅σ_B ⋅σ_C "
      ]
     },
     "execution_count": 65,
     "metadata": {},
     "output_type": "execute_result"
    }
   ],
   "source": [
    "# substitue values\n",
    "p = {rho_AB: 0, rho_AC: 0, rho_BC: 0}\n",
    "\n",
    "#for p in perms: \n",
    "a = A.subs(p)\n",
    "b = B.subs(p)\n",
    "c = C.subs(p)"
   ]
  },
  {
   "cell_type": "code",
   "execution_count": null,
   "id": "b702f1e2",
   "metadata": {},
   "outputs": [],
   "source": []
  },
  {
   "cell_type": "code",
   "execution_count": null,
   "id": "0056cb2a",
   "metadata": {},
   "outputs": [],
   "source": []
  },
  {
   "cell_type": "code",
   "execution_count": null,
   "id": "d1710de4",
   "metadata": {},
   "outputs": [],
   "source": []
  }
 ],
 "metadata": {
  "kernelspec": {
   "display_name": "Python 3 (ipykernel)",
   "language": "python",
   "name": "python3"
  },
  "language_info": {
   "codemirror_mode": {
    "name": "ipython",
    "version": 3
   },
   "file_extension": ".py",
   "mimetype": "text/x-python",
   "name": "python",
   "nbconvert_exporter": "python",
   "pygments_lexer": "ipython3",
   "version": "3.9.7"
  }
 },
 "nbformat": 4,
 "nbformat_minor": 5
}
