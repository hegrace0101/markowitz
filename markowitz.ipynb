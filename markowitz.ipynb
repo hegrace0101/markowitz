{
 "cells": [
  {
   "cell_type": "code",
   "execution_count": 69,
   "id": "a39b0b49",
   "metadata": {},
   "outputs": [],
   "source": [
    "import sympy as sy\n",
    "from sympy.solvers.solveset import linsolve\n",
    "from optlang import Model, Variable, Constraint, Objective\n",
    "\n",
    "sy.init_printing()"
   ]
  },
  {
   "cell_type": "markdown",
   "id": "238ca2ac",
   "metadata": {},
   "source": [
    "# $n = 3$ assets"
   ]
  },
  {
   "cell_type": "markdown",
   "id": "80d77d02",
   "metadata": {},
   "source": [
    "### initialize variables"
   ]
  },
  {
   "cell_type": "code",
   "execution_count": 55,
   "id": "aa299388",
   "metadata": {},
   "outputs": [],
   "source": [
    "# weights\n",
    "w_A, w_B, w_C = sy.symbols(\"w_A w_B w_C\", real=True)\n",
    "\n",
    "# variance/standard deviatin\n",
    "sd_A, sd_B, sd_C = sy.symbols(\"sigma_A sigma_B sigma_C\", real=True)\n",
    "\n",
    "# correlation\n",
    "rho_AB, rho_AC, rho_BC = sy.symbols(\"rho_AB rho_AC rho_BC\", real=True)\n",
    "\n",
    "# lagrange\n",
    "l = sy.symbols(\"lambda\", real=True)"
   ]
  },
  {
   "cell_type": "code",
   "execution_count": 62,
   "id": "781ee5fb",
   "metadata": {},
   "outputs": [
    {
     "data": {
      "text/latex": [
       "$\\displaystyle \\left[\\begin{matrix}\\sigma_{A}^{2} & \\rho_{AB} \\sigma_{A} \\sigma_{B} & \\rho_{AC} \\sigma_{A} \\sigma_{B}\\\\\\rho_{AB} \\sigma_{A} \\sigma_{B} & \\sigma_{B}^{2} & \\rho_{BC} \\sigma_{B} \\sigma_{C}\\\\\\rho_{AC} \\sigma_{A} \\sigma_{C} & \\rho_{BC} \\sigma_{B} \\sigma_{C} & \\sigma_{C}^{2}\\end{matrix}\\right]$"
      ],
      "text/plain": [
       "⎡       2                                ⎤\n",
       "⎢    σ_A       ρ_AB⋅σ_A⋅σ_B  ρ_AC⋅σ_A⋅σ_B⎥\n",
       "⎢                                        ⎥\n",
       "⎢                     2                  ⎥\n",
       "⎢ρ_AB⋅σ_A⋅σ_B      σ_B       ρ_BC⋅σ_B⋅σ_C⎥\n",
       "⎢                                        ⎥\n",
       "⎢                                   2    ⎥\n",
       "⎣ρ_AC⋅σ_A⋅σ_C  ρ_BC⋅σ_B⋅σ_C      σ_C     ⎦"
      ]
     },
     "execution_count": 62,
     "metadata": {},
     "output_type": "execute_result"
    }
   ],
   "source": [
    "# matrices\n",
    "W = sy.Matrix([w_A, w_B, w_C])\n",
    "G = sy.Matrix([[sd_A*sd_A, rho_AB*sd_A*sd_B, rho_AC*sd_A*sd_B],\n",
    "              [rho_AB*sd_A*sd_B, sd_B*sd_B, rho_BC*sd_B*sd_C],\n",
    "              [rho_AC*sd_A*sd_C, rho_BC*sd_B*sd_C, sd_C*sd_C]])"
   ]
  },
  {
   "cell_type": "code",
   "execution_count": 63,
   "id": "e13198a1",
   "metadata": {},
   "outputs": [
    {
     "data": {
      "text/latex": [
       "$\\displaystyle \\left[\\begin{matrix}w_{A}\\\\w_{B}\\\\w_{C}\\end{matrix}\\right]$"
      ],
      "text/plain": [
       "⎡w_A⎤\n",
       "⎢   ⎥\n",
       "⎢w_B⎥\n",
       "⎢   ⎥\n",
       "⎣w_C⎦"
      ]
     },
     "execution_count": 63,
     "metadata": {},
     "output_type": "execute_result"
    }
   ],
   "source": [
    "W"
   ]
  },
  {
   "cell_type": "code",
   "execution_count": 64,
   "id": "a2d0ec1e",
   "metadata": {},
   "outputs": [
    {
     "data": {
      "text/latex": [
       "$\\displaystyle \\left[\\begin{matrix}\\sigma_{A}^{2} & \\rho_{AB} \\sigma_{A} \\sigma_{B} & \\rho_{AC} \\sigma_{A} \\sigma_{B}\\\\\\rho_{AB} \\sigma_{A} \\sigma_{B} & \\sigma_{B}^{2} & \\rho_{BC} \\sigma_{B} \\sigma_{C}\\\\\\rho_{AC} \\sigma_{A} \\sigma_{C} & \\rho_{BC} \\sigma_{B} \\sigma_{C} & \\sigma_{C}^{2}\\end{matrix}\\right]$"
      ],
      "text/plain": [
       "⎡       2                                ⎤\n",
       "⎢    σ_A       ρ_AB⋅σ_A⋅σ_B  ρ_AC⋅σ_A⋅σ_B⎥\n",
       "⎢                                        ⎥\n",
       "⎢                     2                  ⎥\n",
       "⎢ρ_AB⋅σ_A⋅σ_B      σ_B       ρ_BC⋅σ_B⋅σ_C⎥\n",
       "⎢                                        ⎥\n",
       "⎢                                   2    ⎥\n",
       "⎣ρ_AC⋅σ_A⋅σ_C  ρ_BC⋅σ_B⋅σ_C      σ_C     ⎦"
      ]
     },
     "execution_count": 64,
     "metadata": {},
     "output_type": "execute_result"
    }
   ],
   "source": [
    "G"
   ]
  },
  {
   "cell_type": "code",
   "execution_count": 51,
   "id": "e139596d",
   "metadata": {},
   "outputs": [
    {
     "data": {
      "image/png": "[encoded data removed]",
      "text/latex": [
       "$\\displaystyle w_{A} \\left(\\rho_{AB} \\sigma_{A} \\sigma_{B} w_{B} + \\rho_{AC} \\sigma_{A} \\sigma_{C} w_{C} + \\sigma_{A}^{2} w_{A}\\right) + w_{B} \\left(\\rho_{AB} \\sigma_{A} \\sigma_{B} w_{A} + \\rho_{BC} \\sigma_{B} \\sigma_{C} w_{C} + \\sigma_{B}^{2} w_{B}\\right) + w_{C} \\left(\\rho_{AC} \\sigma_{A} \\sigma_{B} w_{A} + \\rho_{BC} \\sigma_{B} \\sigma_{C} w_{B} + \\sigma_{C}^{2} w_{C}\\right)$"
      ],
      "text/plain": [
       "    ⎛                                         2    ⎞       ⎛                  \n",
       "w_A⋅⎝ρ_AB⋅σ_A⋅σ_B⋅w_B + ρ_AC⋅σ_A⋅σ_C⋅w_C + σ_A ⋅w_A⎠ + w_B⋅⎝ρ_AB⋅σ_A⋅σ_B⋅w_A +\n",
       "\n",
       "                       2    ⎞       ⎛                                         \n",
       " ρ_BC⋅σ_B⋅σ_C⋅w_C + σ_B ⋅w_B⎠ + w_C⋅⎝ρ_AC⋅σ_A⋅σ_B⋅w_A + ρ_BC⋅σ_B⋅σ_C⋅w_B + σ_C\n",
       "\n",
       "2    ⎞\n",
       " ⋅w_C⎠"
      ]
     },
     "execution_count": 51,
     "metadata": {},
     "output_type": "execute_result"
    }
   ],
   "source": [
    "# build objective function\n",
    "objective = W.T * G * W\n",
    "obj = objective[0]\n",
    "obj"
   ]
  },
  {
   "cell_type": "code",
   "execution_count": 52,
   "id": "1e91a8f2",
   "metadata": {},
   "outputs": [
    {
     "data": {
      "image/png": "[encoded data removed]",
      "text/latex": [
       "$\\displaystyle w_{A} + w_{B} + w_{C} - 1$"
      ],
      "text/plain": [
       "w_A + w_B + w_C - 1"
      ]
     },
     "execution_count": 52,
     "metadata": {},
     "output_type": "execute_result"
    }
   ],
   "source": [
    "# build constraint \n",
    "constraint = W.T * sy.Matrix([1, 1, 1])\n",
    "c = constraint[0] - 1\n",
    "c"
   ]
  },
  {
   "cell_type": "code",
   "execution_count": 58,
   "id": "496bacfd",
   "metadata": {},
   "outputs": [
    {
     "data": {
      "image/png": "[encoded data removed]",
      "text/latex": [
       "$\\displaystyle \\lambda \\left(w_{A} + w_{B} + w_{C} - 1\\right) + w_{A} \\left(\\rho_{AB} \\sigma_{A} \\sigma_{B} w_{B} + \\rho_{AC} \\sigma_{A} \\sigma_{C} w_{C} + \\sigma_{A}^{2} w_{A}\\right) + w_{B} \\left(\\rho_{AB} \\sigma_{A} \\sigma_{B} w_{A} + \\rho_{BC} \\sigma_{B} \\sigma_{C} w_{C} + \\sigma_{B}^{2} w_{B}\\right) + w_{C} \\left(\\rho_{AC} \\sigma_{A} \\sigma_{B} w_{A} + \\rho_{BC} \\sigma_{B} \\sigma_{C} w_{B} + \\sigma_{C}^{2} w_{C}\\right)$"
      ],
      "text/plain": [
       "                              ⎛                                         2    ⎞\n",
       "λ⋅(w_A + w_B + w_C - 1) + w_A⋅⎝ρ_AB⋅σ_A⋅σ_B⋅w_B + ρ_AC⋅σ_A⋅σ_C⋅w_C + σ_A ⋅w_A⎠\n",
       "\n",
       "       ⎛                                         2    ⎞       ⎛               \n",
       " + w_B⋅⎝ρ_AB⋅σ_A⋅σ_B⋅w_A + ρ_BC⋅σ_B⋅σ_C⋅w_C + σ_B ⋅w_B⎠ + w_C⋅⎝ρ_AC⋅σ_A⋅σ_B⋅w_\n",
       "\n",
       "                          2    ⎞\n",
       "A + ρ_BC⋅σ_B⋅σ_C⋅w_B + σ_C ⋅w_C⎠"
      ]
     },
     "execution_count": 58,
     "metadata": {},
     "output_type": "execute_result"
    }
   ],
   "source": [
    "# lagrangian\n",
    "lagrangian = obj + l*c\n",
    "lagrangian"
   ]
  },
  {
   "cell_type": "code",
   "execution_count": 88,
   "id": "7b3c5dfe",
   "metadata": {},
   "outputs": [],
   "source": [
    "# differentiate with respect to each weight (w_A, w_B, w_C)\n",
    "dLdA = sy.diff(lagrangian, w_A)\n",
    "dLdB = sy.diff(lagrangian, w_B)\n",
    "dLdC = sy.diff(lagrangian, w_C)\n",
    "dLdl = sy.diff(lagrangian, l)"
   ]
  },
  {
   "cell_type": "code",
   "execution_count": 89,
   "id": "ece62a8a",
   "metadata": {},
   "outputs": [],
   "source": [
    "# set derivative to 0\n",
    "A, B, C, lam = linsolve([dLdA, dLdB, dLdC, dLdl], (w_A, w_B, w_C, l)).args[0]"
   ]
  },
  {
   "cell_type": "code",
   "execution_count": 90,
   "id": "14695650",
   "metadata": {},
   "outputs": [
    {
     "data": {
      "image/png": "[encoded data removed]",
      "text/latex": [
       "$\\displaystyle \\frac{- 4 \\rho_{AB} \\rho_{BC} \\sigma_{A} \\sigma_{B}^{2} \\sigma_{C} + 4 \\rho_{AB} \\sigma_{A} \\sigma_{B} \\sigma_{C}^{2} - 2 \\rho_{AC} \\rho_{BC} \\sigma_{A} \\sigma_{B}^{2} \\sigma_{C} - 2 \\rho_{AC} \\rho_{BC} \\sigma_{A} \\sigma_{B} \\sigma_{C}^{2} + 2 \\rho_{AC} \\sigma_{A} \\sigma_{B}^{3} + 2 \\rho_{AC} \\sigma_{A} \\sigma_{B}^{2} \\sigma_{C} + 4 \\rho_{BC}^{2} \\sigma_{B}^{2} \\sigma_{C}^{2} - 4 \\sigma_{B}^{2} \\sigma_{C}^{2}}{4 \\rho_{AB}^{2} \\sigma_{A}^{2} \\sigma_{B}^{2} - 4 \\rho_{AB} \\rho_{AC} \\sigma_{A}^{2} \\sigma_{B}^{2} - 4 \\rho_{AB} \\rho_{AC} \\sigma_{A}^{2} \\sigma_{B} \\sigma_{C} - 8 \\rho_{AB} \\rho_{BC} \\sigma_{A} \\sigma_{B}^{2} \\sigma_{C} + 8 \\rho_{AB} \\sigma_{A} \\sigma_{B} \\sigma_{C}^{2} + \\rho_{AC}^{2} \\sigma_{A}^{2} \\sigma_{B}^{2} + 2 \\rho_{AC}^{2} \\sigma_{A}^{2} \\sigma_{B} \\sigma_{C} + \\rho_{AC}^{2} \\sigma_{A}^{2} \\sigma_{C}^{2} - 4 \\rho_{AC} \\rho_{BC} \\sigma_{A} \\sigma_{B}^{2} \\sigma_{C} - 4 \\rho_{AC} \\rho_{BC} \\sigma_{A} \\sigma_{B} \\sigma_{C}^{2} + 4 \\rho_{AC} \\sigma_{A} \\sigma_{B}^{3} + 4 \\rho_{AC} \\sigma_{A} \\sigma_{B}^{2} \\sigma_{C} + 4 \\rho_{BC}^{2} \\sigma_{B}^{2} \\sigma_{C}^{2} + 8 \\rho_{BC} \\sigma_{A}^{2} \\sigma_{B} \\sigma_{C} - 4 \\sigma_{A}^{2} \\sigma_{B}^{2} - 4 \\sigma_{A}^{2} \\sigma_{C}^{2} - 4 \\sigma_{B}^{2} \\sigma_{C}^{2}}$"
      ],
      "text/plain": [
       "                                                                              \n",
       "                                                                              \n",
       "──────────────────────────────────────────────────────────────────────────────\n",
       "      2    2    2                  2    2                  2                  \n",
       "4⋅ρ_AB ⋅σ_A ⋅σ_B  - 4⋅ρ_AB⋅ρ_AC⋅σ_A ⋅σ_B  - 4⋅ρ_AB⋅ρ_AC⋅σ_A ⋅σ_B⋅σ_C - 8⋅ρ_AB⋅\n",
       "\n",
       "                                2                         2                   \n",
       "           - 4⋅ρ_AB⋅ρ_BC⋅σ_A⋅σ_B ⋅σ_C + 4⋅ρ_AB⋅σ_A⋅σ_B⋅σ_C  - 2⋅ρ_AC⋅ρ_BC⋅σ_A⋅\n",
       "──────────────────────────────────────────────────────────────────────────────\n",
       "            2                         2       2    2    2         2    2      \n",
       "ρ_BC⋅σ_A⋅σ_B ⋅σ_C + 8⋅ρ_AB⋅σ_A⋅σ_B⋅σ_C  + ρ_AC ⋅σ_A ⋅σ_B  + 2⋅ρ_AC ⋅σ_A ⋅σ_B⋅σ\n",
       "\n",
       "   2                              2                 3                 2       \n",
       "σ_B ⋅σ_C - 2⋅ρ_AC⋅ρ_BC⋅σ_A⋅σ_B⋅σ_C  + 2⋅ρ_AC⋅σ_A⋅σ_B  + 2⋅ρ_AC⋅σ_A⋅σ_B ⋅σ_C + \n",
       "──────────────────────────────────────────────────────────────────────────────\n",
       "         2    2    2                      2                              2    \n",
       "_C + ρ_AC ⋅σ_A ⋅σ_C  - 4⋅ρ_AC⋅ρ_BC⋅σ_A⋅σ_B ⋅σ_C - 4⋅ρ_AC⋅ρ_BC⋅σ_A⋅σ_B⋅σ_C  + 4\n",
       "\n",
       "      2    2    2        2    2                                               \n",
       "4⋅ρ_BC ⋅σ_B ⋅σ_C  - 4⋅σ_B ⋅σ_C                                                \n",
       "──────────────────────────────────────────────────────────────────────────────\n",
       "             3                 2             2    2    2             2        \n",
       "⋅ρ_AC⋅σ_A⋅σ_B  + 4⋅ρ_AC⋅σ_A⋅σ_B ⋅σ_C + 4⋅ρ_BC ⋅σ_B ⋅σ_C  + 8⋅ρ_BC⋅σ_A ⋅σ_B⋅σ_C\n",
       "\n",
       "                                          \n",
       "                                          \n",
       "──────────────────────────────────────────\n",
       "        2    2        2    2        2    2\n",
       " - 4⋅σ_A ⋅σ_B  - 4⋅σ_A ⋅σ_C  - 4⋅σ_B ⋅σ_C "
      ]
     },
     "execution_count": 90,
     "metadata": {},
     "output_type": "execute_result"
    }
   ],
   "source": [
    "A"
   ]
  },
  {
   "cell_type": "code",
   "execution_count": 91,
   "id": "25864c6c",
   "metadata": {},
   "outputs": [
    {
     "data": {
      "image/png": "[encoded data removed]",
      "text/latex": [
       "$\\displaystyle \\frac{- 2 \\rho_{AB} \\rho_{AC} \\sigma_{A}^{2} \\sigma_{B}^{2} - 2 \\rho_{AB} \\rho_{AC} \\sigma_{A}^{2} \\sigma_{B} \\sigma_{C} + 4 \\rho_{AB} \\sigma_{A} \\sigma_{B} \\sigma_{C}^{2} + \\rho_{AC}^{2} \\sigma_{A}^{2} \\sigma_{B}^{2} + 2 \\rho_{AC}^{2} \\sigma_{A}^{2} \\sigma_{B} \\sigma_{C} + \\rho_{AC}^{2} \\sigma_{A}^{2} \\sigma_{C}^{2} - 2 \\rho_{AC} \\rho_{BC} \\sigma_{A} \\sigma_{B}^{2} \\sigma_{C} - 2 \\rho_{AC} \\rho_{BC} \\sigma_{A} \\sigma_{B} \\sigma_{C}^{2} + 4 \\rho_{BC} \\sigma_{A}^{2} \\sigma_{B} \\sigma_{C} - 4 \\sigma_{A}^{2} \\sigma_{C}^{2}}{4 \\rho_{AB}^{2} \\sigma_{A}^{2} \\sigma_{B}^{2} - 4 \\rho_{AB} \\rho_{AC} \\sigma_{A}^{2} \\sigma_{B}^{2} - 4 \\rho_{AB} \\rho_{AC} \\sigma_{A}^{2} \\sigma_{B} \\sigma_{C} - 8 \\rho_{AB} \\rho_{BC} \\sigma_{A} \\sigma_{B}^{2} \\sigma_{C} + 8 \\rho_{AB} \\sigma_{A} \\sigma_{B} \\sigma_{C}^{2} + \\rho_{AC}^{2} \\sigma_{A}^{2} \\sigma_{B}^{2} + 2 \\rho_{AC}^{2} \\sigma_{A}^{2} \\sigma_{B} \\sigma_{C} + \\rho_{AC}^{2} \\sigma_{A}^{2} \\sigma_{C}^{2} - 4 \\rho_{AC} \\rho_{BC} \\sigma_{A} \\sigma_{B}^{2} \\sigma_{C} - 4 \\rho_{AC} \\rho_{BC} \\sigma_{A} \\sigma_{B} \\sigma_{C}^{2} + 4 \\rho_{AC} \\sigma_{A} \\sigma_{B}^{3} + 4 \\rho_{AC} \\sigma_{A} \\sigma_{B}^{2} \\sigma_{C} + 4 \\rho_{BC}^{2} \\sigma_{B}^{2} \\sigma_{C}^{2} + 8 \\rho_{BC} \\sigma_{A}^{2} \\sigma_{B} \\sigma_{C} - 4 \\sigma_{A}^{2} \\sigma_{B}^{2} - 4 \\sigma_{A}^{2} \\sigma_{C}^{2} - 4 \\sigma_{B}^{2} \\sigma_{C}^{2}}$"
      ],
      "text/plain": [
       "                                                                              \n",
       "                                                                  - 2⋅ρ_AB⋅ρ_A\n",
       "──────────────────────────────────────────────────────────────────────────────\n",
       "      2    2    2                  2    2                  2                  \n",
       "4⋅ρ_AB ⋅σ_A ⋅σ_B  - 4⋅ρ_AB⋅ρ_AC⋅σ_A ⋅σ_B  - 4⋅ρ_AB⋅ρ_AC⋅σ_A ⋅σ_B⋅σ_C - 8⋅ρ_AB⋅\n",
       "\n",
       "     2    2                  2                             2       2    2    2\n",
       "C⋅σ_A ⋅σ_B  - 2⋅ρ_AB⋅ρ_AC⋅σ_A ⋅σ_B⋅σ_C + 4⋅ρ_AB⋅σ_A⋅σ_B⋅σ_C  + ρ_AC ⋅σ_A ⋅σ_B \n",
       "──────────────────────────────────────────────────────────────────────────────\n",
       "            2                         2       2    2    2         2    2      \n",
       "ρ_BC⋅σ_A⋅σ_B ⋅σ_C + 8⋅ρ_AB⋅σ_A⋅σ_B⋅σ_C  + ρ_AC ⋅σ_A ⋅σ_B  + 2⋅ρ_AC ⋅σ_A ⋅σ_B⋅σ\n",
       "\n",
       "         2    2               2    2    2                      2              \n",
       " + 2⋅ρ_AC ⋅σ_A ⋅σ_B⋅σ_C + ρ_AC ⋅σ_A ⋅σ_C  - 2⋅ρ_AC⋅ρ_BC⋅σ_A⋅σ_B ⋅σ_C - 2⋅ρ_AC⋅\n",
       "──────────────────────────────────────────────────────────────────────────────\n",
       "         2    2    2                      2                              2    \n",
       "_C + ρ_AC ⋅σ_A ⋅σ_C  - 4⋅ρ_AC⋅ρ_BC⋅σ_A⋅σ_B ⋅σ_C - 4⋅ρ_AC⋅ρ_BC⋅σ_A⋅σ_B⋅σ_C  + 4\n",
       "\n",
       "                2             2                2    2                         \n",
       "ρ_BC⋅σ_A⋅σ_B⋅σ_C  + 4⋅ρ_BC⋅σ_A ⋅σ_B⋅σ_C - 4⋅σ_A ⋅σ_C                          \n",
       "──────────────────────────────────────────────────────────────────────────────\n",
       "             3                 2             2    2    2             2        \n",
       "⋅ρ_AC⋅σ_A⋅σ_B  + 4⋅ρ_AC⋅σ_A⋅σ_B ⋅σ_C + 4⋅ρ_BC ⋅σ_B ⋅σ_C  + 8⋅ρ_BC⋅σ_A ⋅σ_B⋅σ_C\n",
       "\n",
       "                                          \n",
       "                                          \n",
       "──────────────────────────────────────────\n",
       "        2    2        2    2        2    2\n",
       " - 4⋅σ_A ⋅σ_B  - 4⋅σ_A ⋅σ_C  - 4⋅σ_B ⋅σ_C "
      ]
     },
     "execution_count": 91,
     "metadata": {},
     "output_type": "execute_result"
    }
   ],
   "source": [
    "B"
   ]
  },
  {
   "cell_type": "code",
   "execution_count": 92,
   "id": "b702f1e2",
   "metadata": {},
   "outputs": [
    {
     "data": {
      "image/png": "[encoded data removed]",
      "text/latex": [
       "$\\displaystyle \\frac{4 \\rho_{AB}^{2} \\sigma_{A}^{2} \\sigma_{B}^{2} - 2 \\rho_{AB} \\rho_{AC} \\sigma_{A}^{2} \\sigma_{B}^{2} - 2 \\rho_{AB} \\rho_{AC} \\sigma_{A}^{2} \\sigma_{B} \\sigma_{C} - 4 \\rho_{AB} \\rho_{BC} \\sigma_{A} \\sigma_{B}^{2} \\sigma_{C} + 2 \\rho_{AC} \\sigma_{A} \\sigma_{B}^{3} + 2 \\rho_{AC} \\sigma_{A} \\sigma_{B}^{2} \\sigma_{C} + 4 \\rho_{BC} \\sigma_{A}^{2} \\sigma_{B} \\sigma_{C} - 4 \\sigma_{A}^{2} \\sigma_{B}^{2}}{4 \\rho_{AB}^{2} \\sigma_{A}^{2} \\sigma_{B}^{2} - 4 \\rho_{AB} \\rho_{AC} \\sigma_{A}^{2} \\sigma_{B}^{2} - 4 \\rho_{AB} \\rho_{AC} \\sigma_{A}^{2} \\sigma_{B} \\sigma_{C} - 8 \\rho_{AB} \\rho_{BC} \\sigma_{A} \\sigma_{B}^{2} \\sigma_{C} + 8 \\rho_{AB} \\sigma_{A} \\sigma_{B} \\sigma_{C}^{2} + \\rho_{AC}^{2} \\sigma_{A}^{2} \\sigma_{B}^{2} + 2 \\rho_{AC}^{2} \\sigma_{A}^{2} \\sigma_{B} \\sigma_{C} + \\rho_{AC}^{2} \\sigma_{A}^{2} \\sigma_{C}^{2} - 4 \\rho_{AC} \\rho_{BC} \\sigma_{A} \\sigma_{B}^{2} \\sigma_{C} - 4 \\rho_{AC} \\rho_{BC} \\sigma_{A} \\sigma_{B} \\sigma_{C}^{2} + 4 \\rho_{AC} \\sigma_{A} \\sigma_{B}^{3} + 4 \\rho_{AC} \\sigma_{A} \\sigma_{B}^{2} \\sigma_{C} + 4 \\rho_{BC}^{2} \\sigma_{B}^{2} \\sigma_{C}^{2} + 8 \\rho_{BC} \\sigma_{A}^{2} \\sigma_{B} \\sigma_{C} - 4 \\sigma_{A}^{2} \\sigma_{B}^{2} - 4 \\sigma_{A}^{2} \\sigma_{C}^{2} - 4 \\sigma_{B}^{2} \\sigma_{C}^{2}}$"
      ],
      "text/plain": [
       "                                                                              \n",
       "                                                                              \n",
       "──────────────────────────────────────────────────────────────────────────────\n",
       "      2    2    2                  2    2                  2                  \n",
       "4⋅ρ_AB ⋅σ_A ⋅σ_B  - 4⋅ρ_AB⋅ρ_AC⋅σ_A ⋅σ_B  - 4⋅ρ_AB⋅ρ_AC⋅σ_A ⋅σ_B⋅σ_C - 8⋅ρ_AB⋅\n",
       "\n",
       "                   2    2    2                  2    2                  2     \n",
       "             4⋅ρ_AB ⋅σ_A ⋅σ_B  - 2⋅ρ_AB⋅ρ_AC⋅σ_A ⋅σ_B  - 2⋅ρ_AB⋅ρ_AC⋅σ_A ⋅σ_B⋅\n",
       "──────────────────────────────────────────────────────────────────────────────\n",
       "            2                         2       2    2    2         2    2      \n",
       "ρ_BC⋅σ_A⋅σ_B ⋅σ_C + 8⋅ρ_AB⋅σ_A⋅σ_B⋅σ_C  + ρ_AC ⋅σ_A ⋅σ_B  + 2⋅ρ_AC ⋅σ_A ⋅σ_B⋅σ\n",
       "\n",
       "                         2                     3                 2            \n",
       "σ_C - 4⋅ρ_AB⋅ρ_BC⋅σ_A⋅σ_B ⋅σ_C + 2⋅ρ_AC⋅σ_A⋅σ_B  + 2⋅ρ_AC⋅σ_A⋅σ_B ⋅σ_C + 4⋅ρ_B\n",
       "──────────────────────────────────────────────────────────────────────────────\n",
       "         2    2    2                      2                              2    \n",
       "_C + ρ_AC ⋅σ_A ⋅σ_C  - 4⋅ρ_AC⋅ρ_BC⋅σ_A⋅σ_B ⋅σ_C - 4⋅ρ_AC⋅ρ_BC⋅σ_A⋅σ_B⋅σ_C  + 4\n",
       "\n",
       "     2                2    2                                                  \n",
       "C⋅σ_A ⋅σ_B⋅σ_C - 4⋅σ_A ⋅σ_B                                                   \n",
       "──────────────────────────────────────────────────────────────────────────────\n",
       "             3                 2             2    2    2             2        \n",
       "⋅ρ_AC⋅σ_A⋅σ_B  + 4⋅ρ_AC⋅σ_A⋅σ_B ⋅σ_C + 4⋅ρ_BC ⋅σ_B ⋅σ_C  + 8⋅ρ_BC⋅σ_A ⋅σ_B⋅σ_C\n",
       "\n",
       "                                          \n",
       "                                          \n",
       "──────────────────────────────────────────\n",
       "        2    2        2    2        2    2\n",
       " - 4⋅σ_A ⋅σ_B  - 4⋅σ_A ⋅σ_C  - 4⋅σ_B ⋅σ_C "
      ]
     },
     "execution_count": 92,
     "metadata": {},
     "output_type": "execute_result"
    }
   ],
   "source": [
    "C"
   ]
  },
  {
   "cell_type": "code",
   "execution_count": null,
   "id": "0056cb2a",
   "metadata": {},
   "outputs": [],
   "source": []
  },
  {
   "cell_type": "code",
   "execution_count": null,
   "id": "d1710de4",
   "metadata": {},
   "outputs": [],
   "source": []
  }
 ],
 "metadata": {
  "kernelspec": {
   "display_name": "Python 3 (ipykernel)",
   "language": "python",
   "name": "python3"
  },
  "language_info": {
   "codemirror_mode": {
    "name": "ipython",
    "version": 3
   },
   "file_extension": ".py",
   "mimetype": "text/x-python",
   "name": "python",
   "nbconvert_exporter": "python",
   "pygments_lexer": "ipython3",
   "version": "3.9.7"
  }
 },
 "nbformat": 4,
 "nbformat_minor": 5
}
